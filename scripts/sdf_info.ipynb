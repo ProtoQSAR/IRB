{
 "cells": [
  {
   "cell_type": "code",
   "execution_count": 1,
   "metadata": {},
   "outputs": [],
   "source": [
    "import pandas as pd"
   ]
  },
  {
   "cell_type": "code",
   "execution_count": 2,
   "metadata": {},
   "outputs": [],
   "source": [
    "sdf_path = 'C:/Users/Enrique/Documents/New ProtoADME Models/CYP_1A2_substrate/raw_data/modified Zaretzki data set/SoM_dataset.sdf'\n",
    "\n",
    "with open(sdf_path, 'r', encoding='latin-1') as file:\n",
    "    sdf_content = file.readlines()"
   ]
  },
  {
   "cell_type": "code",
   "execution_count": 10,
   "metadata": {},
   "outputs": [
    {
     "data": {
      "text/plain": [
       "[{'compound_name': '3D',\n",
       "  'properties': {'ID': '13_cis_retinoic_acid',\n",
       "   'PRIMARY_SOM_1A2': '7',\n",
       "   'PRIMARY_SOM_2A6': '7',\n",
       "   'PRIMARY_SOM_2B6': '7',\n",
       "   'PRIMARY_SOM_2C19': '7',\n",
       "   'PRIMARY_SOM_2C8': '7',\n",
       "   'PRIMARY_SOM_2C9': '7',\n",
       "   'PRIMARY_SOM_2D6': '7',\n",
       "   'PRIMARY_SOM_2E1': '7',\n",
       "   'PRIMARY_SOM_3A4': '7',\n",
       "   'Citation': 'Marill et al.,Biochem. Pharmacol.,63,933,2002'}},\n",
       " {'compound_name': '3D',\n",
       "  'properties': {'ID': '1_2_4_trichlorobenzene',\n",
       "   'PRIMARY_SOM_1A2': '3 4',\n",
       "   'PRIMARY_SOM_2D6': '3',\n",
       "   'PRIMARY_SOM_2E1': '3',\n",
       "   'PRIMARY_SOM_3A4': '3',\n",
       "   'SECONDARY_SOM_2E1': '4',\n",
       "   'SECONDARY_SOM_3A4': '7',\n",
       "   'Citation': 'Bogaards, J.J.P.; Omen, B.V.; Wolf, C.R.; Van Bladeren, P.J. Human Cytochrome P450 Enzyme Selectivities in the Oxidation of Chlorinated Benzenes. Toxicol. Appl. Pharamcol. 1995, 132, 44\\x9652.'}},\n",
       " {'compound_name': '3D',\n",
       "  'properties': {'ID': '2-acetylaminofluorene',\n",
       "   'PRIMARY_SOM_1A2': '6',\n",
       "   'SECONDARY_SOM_1A2': '1 15',\n",
       "   'TERTIARY_SOM_1A2': '17',\n",
       "   'Citation': 'McManus ME. et al.,Cancer Research, 50, 3367-3376, 1990'}},\n",
       " {'compound_name': '3D',\n",
       "  'properties': {'ID': '2-acetylbenzothiophene',\n",
       "   'PRIMARY_SOM_1A2': '5',\n",
       "   'PRIMARY_SOM_2B6': '5',\n",
       "   'PRIMARY_SOM_2E1': '5',\n",
       "   'PRIMARY_SOM_3A4': '5',\n",
       "   'DOI': '10.1021/tx0341409',\n",
       "   'Citation': 'Elizabeth M. Joshi, Brian H. Heasley, Mahendra D. Chordia, and Timothy L. Macdonald, In Vitro Metabolism of 2-Acetylbenzothiophene:  Relevance to Zileuton Hepatotoxicity, Chem. Res. Toxicol., 2004, 17 (2), pp 137\\x96143'}},\n",
       " {'compound_name': '3D',\n",
       "  'properties': {'ID': '2-naphthylamine',\n",
       "   'PRIMARY_SOM_1A2': '1',\n",
       "   'Citation': 'Butler, M.N.; Iwasaki, M.; Guengerich, F.P.; Kadlubar, F.K. Human Cytochrome P-450PIA (P450IA2), the Phenacetin O-deethylase, Is Primarily Responsible for the Hepatic 3-Demethylation of Caffeine and N-Oxidation of Carcinogenic Arylamines. Proc. Natl Acad. Sci. USA 1989, 86, 7696\\x967700.'}}]"
      ]
     },
     "execution_count": 10,
     "metadata": {},
     "output_type": "execute_result"
    }
   ],
   "source": [
    "# Adjust the parsing function to handle line contexts correctly without using list index on an iterator\n",
    "def parse_sdf_v2(sdf_lines):\n",
    "    import re\n",
    "    records = []\n",
    "    record = {}\n",
    "    properties = {}\n",
    "    current_property_name = None\n",
    "    \n",
    "    for line in sdf_lines:\n",
    "        if line.strip() == '$$$$':  # End of a record\n",
    "            if record:\n",
    "                if properties:\n",
    "                    record['properties'] = properties\n",
    "                records.append(record)\n",
    "            record = {}\n",
    "            properties = {}\n",
    "            current_property_name = None\n",
    "        elif line.startswith('>'):  # Start of property data\n",
    "            prop_match = re.match(r'^>\\s*<([^>]+)>', line)\n",
    "            if prop_match:\n",
    "                current_property_name = prop_match.group(1).strip()\n",
    "        elif current_property_name:  # Reading property value\n",
    "            properties[current_property_name] = line.strip()\n",
    "            current_property_name = None  # Reset after reading the value\n",
    "        elif 'V2000' in line:  # Indicates the start of the molecule block\n",
    "            record['compound_name'] = sdf_lines[sdf_lines.index(line) - 2].strip()  # Compound name is two lines before\n",
    "\n",
    "    return records\n",
    "\n",
    "# Need to pass a list again to use index method safely\n",
    "sdf_parsed_v2 = parse_sdf_v2(sdf_content)\n",
    "sdf_parsed_v2[:5]  # Show the first 5 records to verify the output structure"
   ]
  },
  {
   "cell_type": "code",
   "execution_count": 11,
   "metadata": {},
   "outputs": [],
   "source": [
    "# Create a DataFrame with the correct compound names (using 'ID' as the name) and the rest of the properties\n",
    "df_corrected_data = [{\n",
    "    'Compound Name': record['properties'].pop('ID', 'No ID provided'),  # Use 'ID' as the name and remove it from properties\n",
    "    'Properties': record['properties']\n",
    "} for record in sdf_parsed_v2]\n",
    "\n",
    "# Create the corrected DataFrame\n",
    "df_columns = ['Compound Name', 'Properties']\n",
    "corrected_compound_properties_df = pd.DataFrame(df_corrected_data, columns=df_columns)\n",
    "\n",
    "# Expand the 'Properties' dictionary into separate columns\n",
    "expanded_df = pd.json_normalize(corrected_compound_properties_df['Properties'])\n",
    "\n",
    "# Concatenate the expanded properties with the compound names to form the final DataFrame\n",
    "final_df = pd.concat([corrected_compound_properties_df['Compound Name'], expanded_df], axis=1)\n",
    "final_df.to_csv('SoM_dataset.csv', sep=\";\", index=False)"
   ]
  }
 ],
 "metadata": {
  "kernelspec": {
   "display_name": "Python 3",
   "language": "python",
   "name": "python3"
  },
  "language_info": {
   "codemirror_mode": {
    "name": "ipython",
    "version": 3
   },
   "file_extension": ".py",
   "mimetype": "text/x-python",
   "name": "python",
   "nbconvert_exporter": "python",
   "pygments_lexer": "ipython3",
   "version": "3.12.2"
  }
 },
 "nbformat": 4,
 "nbformat_minor": 2
}
