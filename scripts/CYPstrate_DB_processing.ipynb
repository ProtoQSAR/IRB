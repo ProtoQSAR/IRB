{
 "cells": [
  {
   "cell_type": "code",
   "execution_count": 1,
   "metadata": {},
   "outputs": [],
   "source": [
    "import pandas as pd"
   ]
  },
  {
   "cell_type": "code",
   "execution_count": 2,
   "metadata": {},
   "outputs": [],
   "source": [
    "data = pd.read_csv('C:/Users/Enrique/Documents/New ProtoADME Models/CYP_1A2_substrate/raw_data/CYP_generalDB_final.csv', sep=';')\n",
    "\n",
    "CYP1A2 = data.loc[:, ['SMILES', 'CYP1A2']]\n",
    "CYP1A2.to_csv('CYP1A2_substrateDB.csv', sep=';', index=False)\n",
    "\n",
    "CYP2A6 = data.loc[:, ['SMILES', 'CYP2A6']]\n",
    "CYP2A6.to_csv('CYP2A6_substrateDB.csv', sep=';', index=False)\n",
    "\n",
    "CYP2B6 = data.loc[:, ['SMILES', 'CYP2B6']]\n",
    "CYP2B6.to_csv('CYP2B6_substrateDB.csv', sep=';', index=False)\n",
    "\n",
    "CYP2C8 = data.loc[:, ['SMILES', 'CYP2C8']]\n",
    "CYP2C8.to_csv('CYP2C8_substrateDB.csv', sep=';', index=False)\n",
    "\n",
    "CYP2C9 = data.loc[:, ['SMILES', 'CYP2C9']]\n",
    "CYP2C9.to_csv('CYP2C9_substrateDB.csv', sep=';', index=False)\n",
    "\n",
    "CYP2C19 = data.loc[:, ['SMILES', 'CYP2C19']]\n",
    "CYP2C19.to_csv('CYP2C19_substrateDB.csv', sep=';', index=False)\n",
    "\n",
    "CYP2D6 = data.loc[:, ['SMILES', 'CYP2D6']]\n",
    "CYP2D6.to_csv('CYP2D6_substrateDB.csv', sep=';', index=False)\n",
    "\n",
    "CYP3A4 = data.loc[:, ['SMILES', 'CYP3A4']]\n",
    "CYP3A4.to_csv('CYP3A4_substrateDB.csv', sep=';', index=False)\n"
   ]
  }
 ],
 "metadata": {
  "kernelspec": {
   "display_name": "Python 3",
   "language": "python",
   "name": "python3"
  },
  "language_info": {
   "codemirror_mode": {
    "name": "ipython",
    "version": 3
   },
   "file_extension": ".py",
   "mimetype": "text/x-python",
   "name": "python",
   "nbconvert_exporter": "python",
   "pygments_lexer": "ipython3",
   "version": "3.12.2"
  }
 },
 "nbformat": 4,
 "nbformat_minor": 2
}
