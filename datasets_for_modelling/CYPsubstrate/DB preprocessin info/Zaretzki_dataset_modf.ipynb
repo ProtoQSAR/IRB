{
 "cells": [
  {
   "cell_type": "code",
   "execution_count": 4,
   "metadata": {},
   "outputs": [],
   "source": [
    "import pandas as pd"
   ]
  },
  {
   "cell_type": "code",
   "execution_count": 2,
   "metadata": {},
   "outputs": [
    {
     "data": {
      "text/html": [
       "<div>\n",
       "<style scoped>\n",
       "    .dataframe tbody tr th:only-of-type {\n",
       "        vertical-align: middle;\n",
       "    }\n",
       "\n",
       "    .dataframe tbody tr th {\n",
       "        vertical-align: top;\n",
       "    }\n",
       "\n",
       "    .dataframe thead th {\n",
       "        text-align: right;\n",
       "    }\n",
       "</style>\n",
       "<table border=\"1\" class=\"dataframe\">\n",
       "  <thead>\n",
       "    <tr style=\"text-align: right;\">\n",
       "      <th></th>\n",
       "      <th>PRIMARY_SOM_1A2</th>\n",
       "      <th>PRIMARY_SOM_2A6</th>\n",
       "      <th>PRIMARY_SOM_2B6</th>\n",
       "      <th>PRIMARY_SOM_2C19</th>\n",
       "      <th>PRIMARY_SOM_2C8</th>\n",
       "      <th>PRIMARY_SOM_2C9</th>\n",
       "      <th>PRIMARY_SOM_2D6</th>\n",
       "      <th>PRIMARY_SOM_2E1</th>\n",
       "      <th>PRIMARY_SOM_3A4</th>\n",
       "    </tr>\n",
       "  </thead>\n",
       "  <tbody>\n",
       "    <tr>\n",
       "      <th>0</th>\n",
       "      <td>7</td>\n",
       "      <td>7</td>\n",
       "      <td>7</td>\n",
       "      <td>7</td>\n",
       "      <td>7</td>\n",
       "      <td>7</td>\n",
       "      <td>7</td>\n",
       "      <td>7</td>\n",
       "      <td>7</td>\n",
       "    </tr>\n",
       "    <tr>\n",
       "      <th>1</th>\n",
       "      <td>3 4</td>\n",
       "      <td>NaN</td>\n",
       "      <td>NaN</td>\n",
       "      <td>NaN</td>\n",
       "      <td>NaN</td>\n",
       "      <td>NaN</td>\n",
       "      <td>3</td>\n",
       "      <td>3</td>\n",
       "      <td>3</td>\n",
       "    </tr>\n",
       "    <tr>\n",
       "      <th>2</th>\n",
       "      <td>6</td>\n",
       "      <td>NaN</td>\n",
       "      <td>NaN</td>\n",
       "      <td>NaN</td>\n",
       "      <td>NaN</td>\n",
       "      <td>NaN</td>\n",
       "      <td>NaN</td>\n",
       "      <td>NaN</td>\n",
       "      <td>NaN</td>\n",
       "    </tr>\n",
       "    <tr>\n",
       "      <th>3</th>\n",
       "      <td>5</td>\n",
       "      <td>NaN</td>\n",
       "      <td>5</td>\n",
       "      <td>NaN</td>\n",
       "      <td>NaN</td>\n",
       "      <td>NaN</td>\n",
       "      <td>NaN</td>\n",
       "      <td>5</td>\n",
       "      <td>5</td>\n",
       "    </tr>\n",
       "    <tr>\n",
       "      <th>4</th>\n",
       "      <td>1</td>\n",
       "      <td>NaN</td>\n",
       "      <td>NaN</td>\n",
       "      <td>NaN</td>\n",
       "      <td>NaN</td>\n",
       "      <td>NaN</td>\n",
       "      <td>NaN</td>\n",
       "      <td>NaN</td>\n",
       "      <td>NaN</td>\n",
       "    </tr>\n",
       "  </tbody>\n",
       "</table>\n",
       "</div>"
      ],
      "text/plain": [
       "  PRIMARY_SOM_1A2 PRIMARY_SOM_2A6 PRIMARY_SOM_2B6 PRIMARY_SOM_2C19  \\\n",
       "0               7               7               7                7   \n",
       "1             3 4             NaN             NaN              NaN   \n",
       "2               6             NaN             NaN              NaN   \n",
       "3               5             NaN               5              NaN   \n",
       "4               1             NaN             NaN              NaN   \n",
       "\n",
       "  PRIMARY_SOM_2C8 PRIMARY_SOM_2C9 PRIMARY_SOM_2D6 PRIMARY_SOM_2E1  \\\n",
       "0               7               7               7               7   \n",
       "1             NaN             NaN               3               3   \n",
       "2             NaN             NaN             NaN             NaN   \n",
       "3             NaN             NaN             NaN               5   \n",
       "4             NaN             NaN             NaN             NaN   \n",
       "\n",
       "  PRIMARY_SOM_3A4  \n",
       "0               7  \n",
       "1               3  \n",
       "2             NaN  \n",
       "3               5  \n",
       "4             NaN  "
      ]
     },
     "execution_count": 2,
     "metadata": {},
     "output_type": "execute_result"
    }
   ],
   "source": [
    "data = pd.read_csv('C:/Users/Enrique/Documents/New ProtoADME Models/CYP_1A2_substrate/raw_data/modified Zaretzki data set/SoM_dataset.csv', sep=';')\n",
    "\n",
    "# Seleccionar columnas que comiencen con \"PRIMARY_SOM_\"\n",
    "primary_som_columns = [col for col in data.columns if col.startswith(\"PRIMARY_SOM_\")]\n",
    "primary_som_data = data[primary_som_columns]\n",
    "\n",
    "# Mostrar las primeras filas de estas columnas para confirmar la selección\n",
    "primary_som_data.head()"
   ]
  },
  {
   "cell_type": "code",
   "execution_count": 3,
   "metadata": {},
   "outputs": [
    {
     "name": "stderr",
     "output_type": "stream",
     "text": [
      "C:\\Users\\Enrique\\AppData\\Local\\Temp\\ipykernel_8936\\2141407693.py:2: FutureWarning: DataFrame.applymap has been deprecated. Use DataFrame.map instead.\n",
      "  modified_primary_som_data = primary_som_data.applymap(lambda x: '1' if pd.notna(x) else '0')\n"
     ]
    }
   ],
   "source": [
    "# Reemplazar valores numéricos por 'R' y valores faltantes por 'N'\n",
    "modified_primary_som_data = primary_som_data.applymap(lambda x: '1' if pd.notna(x) else '0')\n",
    "\n",
    "# Aplicar las modificaciones directamente sobre el dataframe original\n",
    "data[primary_som_columns] = modified_primary_som_data\n",
    "\n",
    "data.to_csv('Substrate_db_from_SoM.csv', sep=';', index=False)"
   ]
  },
  {
   "cell_type": "code",
   "execution_count": 19,
   "metadata": {},
   "outputs": [],
   "source": [
    "data = pd.read_excel('C:/Users/Enrique/Documents/New ProtoADME Models/CYP_1A2_substrate/raw_data/CYP_generalDB.xlsx')\n",
    "\n",
    "# Seleccionar columnas que comiencen con \"PRIMARY_SOM_\"\n",
    "primary_som_columns = [col for col in data.columns if col.startswith(\"CYP\")]\n",
    "primary_som_data = data[primary_som_columns]\n",
    "\n",
    "# Reemplazar 'N' por '0' en las columnas \"PRIMARY_SOM_\"\n",
    "for column in primary_som_columns:\n",
    "    data[column] = data[column].apply(lambda x: '0' if x == 'N' else x)\n",
    "\n",
    "# Mostrar las primeras filas para confirmar los cambios\n",
    "data.to_csv('CYP_generalDB_final.csv', sep=';', index=False)\n"
   ]
  }
 ],
 "metadata": {
  "kernelspec": {
   "display_name": "Python 3",
   "language": "python",
   "name": "python3"
  },
  "language_info": {
   "codemirror_mode": {
    "name": "ipython",
    "version": 3
   },
   "file_extension": ".py",
   "mimetype": "text/x-python",
   "name": "python",
   "nbconvert_exporter": "python",
   "pygments_lexer": "ipython3",
   "version": "3.12.2"
  }
 },
 "nbformat": 4,
 "nbformat_minor": 2
}
